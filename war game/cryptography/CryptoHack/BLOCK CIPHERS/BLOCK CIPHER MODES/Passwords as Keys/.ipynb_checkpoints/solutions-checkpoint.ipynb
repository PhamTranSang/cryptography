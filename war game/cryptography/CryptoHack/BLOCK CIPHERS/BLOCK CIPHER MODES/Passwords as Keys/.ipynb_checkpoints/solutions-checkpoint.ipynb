{
 "cells": [
  {
   "cell_type": "code",
   "execution_count": 15,
   "metadata": {},
   "outputs": [
    {
     "name": "stdout",
     "output_type": "stream",
     "text": [
      "{'plaintext': 'b745febfc8b26fd9167518953be000d403690d8de5a47eba997c536cd7990729'}\n"
     ]
    }
   ],
   "source": [
    "from Crypto.Cipher import AES\n",
    "import random\n",
    "import hashlib\n",
    "\n",
    "\n",
    "with open('words.txt') as f:\n",
    "    words = [w.strip() for w in f.readlines()]\n",
    "keyword = random.choice(words)\n",
    "KEY = hashlib.md5(keyword.encode()).digest()\n",
    "\n",
    "def decryption(ciphertext, password_hash):\n",
    "    ciphertext = bytes.fromhex(ciphertext)\n",
    "    key = bytes.fromhex(password_hash)\n",
    "    \n",
    "    cipher = AES.new(key, AES.MODE_ECB)\n",
    "    try:\n",
    "        decrypted = cipher.decrypt(ciphertext)\n",
    "    except ValueError as e:\n",
    "        return {\"error\": str(e)}\n",
    "    return {\"plaintext\": decrypted.hex()}\n",
    "\n",
    "\n",
    "ciphertext = 'c92b7734070205bdf6c0087a751466ec13ae15e6f1bcdd3f3a535ec0f4bbae66'\n",
    "key2hex = KEY.hex()\n",
    "print(decryption(ciphertext, key2hex))"
   ]
  },
  {
   "cell_type": "code",
   "execution_count": 1,
   "metadata": {},
   "outputs": [
    {
     "name": "stdout",
     "output_type": "stream",
     "text": [
      "b'2Kv\\x1d\\xbay\\xfa\\xb1\\xd2\\xc0$\\xddb\\x8e\\xc8%'\n"
     ]
    }
   ],
   "source": [
    "import hashlib\n",
    "import random\n",
    "\n",
    "with open('words.txt') as f:\n",
    "    words = [w.strip() for w in f]\n",
    "keyword = random.choice(words)\n",
    "KEY = hashlib.md5(keyword.encode()).hexdigest()\n",
    "\n",
    "print(KEY)"
   ]
  },
  {
   "cell_type": "code",
   "execution_count": 1,
   "metadata": {},
   "outputs": [],
   "source": [
    "import hashlib\n",
    "import random\n",
    "\n",
    "with open('words.txt') as f:\n",
    "    words = [w.strip() for w in f.readlines()]\n",
    "\n",
    "file = open('password_hash.txt', 'w')\n",
    "i = 0\n",
    "while i < len(words):\n",
    "    keyword = random.choice(words)\n",
    "    KEY = hashlib.md5(keyword.encode()).hexdigest()\n",
    "    file.write(KEY)\n",
    "    file.write('\\n')\n",
    "    i = i + 1"
   ]
  },
  {
   "cell_type": "code",
   "execution_count": null,
   "metadata": {},
   "outputs": [],
   "source": []
  }
 ],
 "metadata": {
  "celltoolbar": "Raw Cell Format",
  "kernelspec": {
   "display_name": "SageMath 9.1",
   "language": "sage",
   "name": "sagemath"
  },
  "language_info": {
   "codemirror_mode": {
    "name": "ipython",
    "version": 3
   },
   "file_extension": ".py",
   "mimetype": "text/x-python",
   "name": "python",
   "nbconvert_exporter": "python",
   "pygments_lexer": "ipython3",
   "version": "3.7.3"
  }
 },
 "nbformat": 4,
 "nbformat_minor": 2
}
