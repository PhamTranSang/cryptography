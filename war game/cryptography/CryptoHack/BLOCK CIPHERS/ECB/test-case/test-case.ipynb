{
 "cells": [
  {
   "cell_type": "code",
   "execution_count": 5,
   "metadata": {},
   "outputs": [
    {
     "name": "stdout",
     "output_type": "stream",
     "text": [
      "958f5939a4853e470ff32a362e18ef409c3f5ebd585514acc756009c081c02f8f9d59733f1bfacce87707d5230c3e4fe\n"
     ]
    }
   ],
   "source": [
    "import requests\n",
    "\n",
    "\n",
    "def remote_encrypt(text):\n",
    "    plaintext = text.encode().hex()\n",
    "    r = requests.get('http://aes.cryptohack.org/ecb_oracle/encrypt/%s' % plaintext).json()['ciphertext']\n",
    "    return r\n",
    "\n",
    "string_sent = 'a'*16\n",
    "print(remote_encrypt(string_sent))"
   ]
  },
  {
   "cell_type": "code",
   "execution_count": 6,
   "metadata": {},
   "outputs": [
    {
     "name": "stdout",
     "output_type": "stream",
     "text": [
      "958f5939a4853e470ff32a362e18ef40\n",
      "9c3f5ebd585514acc756009c081c02f8\n",
      "f9d59733f1bfacce87707d5230c3e4fe\n"
     ]
    }
   ],
   "source": [
    "ciphertext = '958f5939a4853e470ff32a362e18ef409c3f5ebd585514acc756009c081c02f8f9d59733f1bfacce87707d5230c3e4fe'\n",
    "print(ciphertext[:32])\n",
    "print(ciphertext[32:64])\n",
    "print(ciphertext[64:])"
   ]
  },
  {
   "cell_type": "code",
   "execution_count": 7,
   "metadata": {},
   "outputs": [
    {
     "name": "stdout",
     "output_type": "stream",
     "text": [
      "['958f5939a4853e470ff32a362e18ef40', '9c3f5ebd585514acc756009c081c02f8', 'f9d59733f1bfacce87707d5230c3e4fe']\n"
     ]
    }
   ],
   "source": [
    "def split_string(text, n):\n",
    "    return [text[i:i+n] for i in range (0, len(text), n)]\n",
    "\n",
    "ciphertext = '958f5939a4853e470ff32a362e18ef409c3f5ebd585514acc756009c081c02f8f9d59733f1bfacce87707d5230c3e4fe'\n",
    "print(split_string(ciphertext, 32))"
   ]
  },
  {
   "cell_type": "code",
   "execution_count": null,
   "metadata": {},
   "outputs": [],
   "source": [
    "import requests\n",
    "from string import printable\n",
    "\n",
    "\n",
    "def remote_encrypt(string_sent):\n",
    "    string = string_sent.encode().hex()\n",
    "    r = requests.get('http://aes.cryptohack.org/ecb_oracle/encrypt/%s' % string).json()['ciphertext']\n",
    "    return r\n",
    "\n",
    "\n",
    "def split_string(text, n):\n",
    "    return [text[i:i+n] for i in range (0, len(text), n)]\n",
    "\n",
    "\n",
    "flag = ''\n",
    "for k in range(2):\n",
    "    b = ''\n",
    "    for i in range(1, 17):\n",
    "        string_sent = 'a'*(16-i)\n",
    "\n",
    "        cipher = remote_encrypt(string_sent)\n",
    "\n",
    "        for c in range(256):\n",
    "            tmp = string_sent + flag + chr(c)\n",
    "            tmp_cipher = remote_encrypt(tmp)\n",
    "            \n",
    "            if tmp_cipher[:32+k*32] == cipher[:32+k*32] and chr(c) in printable and c!=10 and c!=0:\n",
    "                print(chr(c), c)\n",
    "                b += chr(c)\n",
    "                break\n",
    "    flag += b\n",
    "    print(flag)\n"
   ]
  }
 ],
 "metadata": {
  "kernelspec": {
   "display_name": "SageMath 9.1",
   "language": "sage",
   "name": "sagemath"
  },
  "language_info": {
   "codemirror_mode": {
    "name": "ipython",
    "version": 3
   },
   "file_extension": ".py",
   "mimetype": "text/x-python",
   "name": "python",
   "nbconvert_exporter": "python",
   "pygments_lexer": "ipython3",
   "version": "3.7.3"
  }
 },
 "nbformat": 4,
 "nbformat_minor": 2
}
