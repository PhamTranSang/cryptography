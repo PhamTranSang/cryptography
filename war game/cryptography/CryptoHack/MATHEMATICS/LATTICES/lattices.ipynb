{
 "cells": [
  {
   "cell_type": "markdown",
   "metadata": {},
   "source": [
    "**Vectors Problem**"
   ]
  },
  {
   "cell_type": "code",
   "execution_count": 1,
   "metadata": {},
   "outputs": [
    {
     "name": "stdout",
     "output_type": "stream",
     "text": [
      "702\n"
     ]
    }
   ],
   "source": [
    "'''\n",
    "    A vector space V over a field F is a defined with two binary operators\n",
    "    v ∈ V, a ∈ F. Vector addition takes two vectors and prduces another vector: \n",
    "    => v + w = z, for v,w,z ∈ V\n",
    "    And scalar multiplication takes a vector and a scalar and produces a vector:\n",
    "    => a*v = w, for v,w ∈ V, a ∈ F\n",
    "    \n",
    "    Let's consider a two dimensional vector space over the reals. \n",
    "    A vector v ∈ V can be considered as a pair of numbers: v = (a,b) for a,b ∈ R. \n",
    "    Vector addition works as v + w = (a,b) + (c,d) = (a+c, b+d) \n",
    "    And scalar multiplication by c*v = c*(a,b) = (c*a, c*b).\n",
    "\n",
    "    One can also define the inner product (also called the dot product), \n",
    "    which takes two vectors and returns a scalar. \n",
    "    Formally we think of this as v ∙ w = a for v,w ∈ V, a ∈ F. \n",
    "    In our two-dimensional example, the inner product works as v ∙ w = (a,b) ∙ (c,d) = a*c + b*d.\n",
    "\n",
    "'''\n",
    "\n",
    "import numpy as np\n",
    "\n",
    "# creating a 1-D list\n",
    "list1 = [2, 6, 3]\n",
    "list2 = [1, 0, 0]\n",
    "list3 = [7, 7, 2]\n",
    "\n",
    "# creating the vector\n",
    "v = np.array(list1)\n",
    "w = np.array(list2)\n",
    "u = np.array(list3)\n",
    "\n",
    "A = 3*(2*v - w)\n",
    "B = 2*u\n",
    "\n",
    "result = np.dot(A, B)\n",
    "\n",
    "print(result)"
   ]
  },
  {
   "cell_type": "markdown",
   "metadata": {},
   "source": [
    "**Size and Basis**"
   ]
  },
  {
   "cell_type": "markdown",
   "metadata": {},
   "source": [
    "**Solution 1: Using numpy library**"
   ]
  },
  {
   "cell_type": "code",
   "execution_count": 1,
   "metadata": {},
   "outputs": [
    {
     "name": "stdout",
     "output_type": "stream",
     "text": [
      "9.0\n"
     ]
    }
   ],
   "source": [
    "'''\n",
    "    Length of vector\n",
    "'''\n",
    "\n",
    "import numpy as np \n",
    "\n",
    "x = np.array([6, 4, 2, 5])\n",
    "print(np.linalg.norm(x))"
   ]
  },
  {
   "cell_type": "markdown",
   "metadata": {},
   "source": [
    "**Solution 2: Using math to find result**"
   ]
  },
  {
   "cell_type": "code",
   "execution_count": 4,
   "metadata": {
    "scrolled": true
   },
   "outputs": [
    {
     "name": "stdout",
     "output_type": "stream",
     "text": [
      "9.0\n"
     ]
    }
   ],
   "source": [
    "'''\n",
    "    Length of vector = sqrt(v1^2 + v2^2 + vn^n)\n",
    "'''\n",
    "\n",
    "import math\n",
    "result = math.sqrt(pow(6,2) + pow(4,2) + pow(2,2) + pow(5,2))\n",
    "print(result)"
   ]
  },
  {
   "cell_type": "markdown",
   "metadata": {},
   "source": [
    "**What's a Lattice?**"
   ]
  },
  {
   "cell_type": "code",
   "execution_count": 5,
   "metadata": {},
   "outputs": [
    {
     "name": "stdout",
     "output_type": "stream",
     "text": [
      "-254.99999999999991\n"
     ]
    }
   ],
   "source": [
    "import numpy as np\n",
    "\n",
    "v1 = np.array([6, 2, -3])\n",
    "v2 = np.array([5, 1, 4])\n",
    "v3 = np.array([2, 7, 1])\n",
    "\n",
    "v = np.array([v1, v2, v3])\n",
    "\n",
    "print(np.linalg.det(v))"
   ]
  }
 ],
 "metadata": {
  "kernelspec": {
   "display_name": "SageMath 9.2",
   "language": "sage",
   "name": "sagemath"
  },
  "language_info": {
   "codemirror_mode": {
    "name": "ipython",
    "version": 3
   },
   "file_extension": ".py",
   "mimetype": "text/x-python",
   "name": "python",
   "nbconvert_exporter": "python",
   "pygments_lexer": "ipython3",
   "version": "3.8.6"
  }
 },
 "nbformat": 4,
 "nbformat_minor": 4
}
