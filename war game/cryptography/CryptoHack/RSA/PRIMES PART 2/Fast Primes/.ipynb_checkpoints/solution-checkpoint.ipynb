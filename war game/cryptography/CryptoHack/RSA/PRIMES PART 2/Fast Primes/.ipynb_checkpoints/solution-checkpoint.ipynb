{
 "cells": [
  {
   "cell_type": "code",
   "execution_count": 14,
   "metadata": {},
   "outputs": [
    {
     "name": "stdout",
     "output_type": "stream",
     "text": [
      "3500268330967949044823062298826154911867050692847169010393190603261896027827068697231512901754569951980183696540923384746525407674582515316989339329725397 \n",
      " 65537 \n",
      " 36085585184063881815427958798570964202023955775803585992523024980368509784429593965237144722158747111687715759333378798602484797982701468731274234177061088910097294384117269329668323135380978863285124574429700446734092859763679584899755967385132124690276714055865204675784566630406945640232549786644065236066\n"
     ]
    }
   ],
   "source": [
    "from Crypto.PublicKey import RSA\n",
    "from Crypto.Util.number import bytes_to_long, long_to_bytes, inverse\n",
    "\n",
    "with open('key.pem') as f:\n",
    "    key = RSA.import_key(f.read())\n",
    "    n = key.n\n",
    "    e = key.e\n",
    "    \n",
    "c = b'3c8afc787e2aa83227d23714e871e3bee99b97c893ed755236323aba83e65334a5a827dd71734a7cde446ca1a3be786fb9f6b3f555588438f699096309bc9c4b'\n",
    "c = bytes_to_long(c)\n"
   ]
  },
  {
   "cell_type": "code",
   "execution_count": null,
   "metadata": {},
   "outputs": [],
   "source": []
  }
 ],
 "metadata": {
  "kernelspec": {
   "display_name": "Python 3",
   "language": "python",
   "name": "python3"
  },
  "language_info": {
   "codemirror_mode": {
    "name": "ipython",
    "version": 3
   },
   "file_extension": ".py",
   "mimetype": "text/x-python",
   "name": "python",
   "nbconvert_exporter": "python",
   "pygments_lexer": "ipython3",
   "version": "3.8.6"
  }
 },
 "nbformat": 4,
 "nbformat_minor": 4
}
