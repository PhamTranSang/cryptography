{
 "cells": [
  {
   "cell_type": "code",
   "execution_count": 8,
   "metadata": {},
   "outputs": [
    {
     "name": "stdout",
     "output_type": "stream",
     "text": [
      "3500268330967949044823062298826154911867050692847169010393190603261896027827068697231512901754569951980183696540923384746525407674582515316989339329725397\n",
      "65537\n",
      "3363386166633738376532616138333232376432333731346538373165336265653939623937633839336564373535323336333233616261383365363533333461356138323764643731373334613763646534343663613161336265373836666239663662336635353535383834333866363939303936333039626339633462\n"
     ]
    }
   ],
   "source": [
    "from Crypto.PublicKey import RSA\n",
    "\n",
    "with open('key.pem') as f:\n",
    "    key = RSA.import_key(f.read())\n",
    "    n = key.n\n",
    "    e = key.e\n",
    "c = b'3c8afc787e2aa83227d23714e871e3bee99b97c893ed755236323aba83e65334a5a827dd71734a7cde446ca1a3be786fb9f6b3f555588438f699096309bc9c4b'\n",
    "print(n)\n",
    "print(e)\n",
    "print(c.hex())"
   ]
  },
  {
   "cell_type": "code",
   "execution_count": null,
   "metadata": {},
   "outputs": [],
   "source": []
  }
 ],
 "metadata": {
  "kernelspec": {
   "display_name": "Python 3",
   "language": "python",
   "name": "python3"
  },
  "language_info": {
   "codemirror_mode": {
    "name": "ipython",
    "version": 3
   },
   "file_extension": ".py",
   "mimetype": "text/x-python",
   "name": "python",
   "nbconvert_exporter": "python",
   "pygments_lexer": "ipython3",
   "version": "3.8.6"
  }
 },
 "nbformat": 4,
 "nbformat_minor": 4
}
